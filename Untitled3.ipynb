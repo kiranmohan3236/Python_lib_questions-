{
  "nbformat": 4,
  "nbformat_minor": 0,
  "metadata": {
    "colab": {
      "provenance": [],
      "authorship_tag": "ABX9TyPa/K5ZOUYKeU7qKkY/2P4A",
      "include_colab_link": true
    },
    "kernelspec": {
      "name": "python3",
      "display_name": "Python 3"
    },
    "language_info": {
      "name": "python"
    }
  },
  "cells": [
    {
      "cell_type": "markdown",
      "metadata": {
        "id": "view-in-github",
        "colab_type": "text"
      },
      "source": [
        "<a href=\"https://colab.research.google.com/github/kiranmohan3236/Python_lib_questions-/blob/main/Untitled3.ipynb\" target=\"_parent\"><img src=\"https://colab.research.google.com/assets/colab-badge.svg\" alt=\"Open In Colab\"/></a>"
      ]
    },
    {
      "cell_type": "code",
      "execution_count": 1,
      "metadata": {
        "id": "ZkDjghq4pbdE"
      },
      "outputs": [],
      "source": [
        "import numpy as np"
      ]
    },
    {
      "cell_type": "code",
      "source": [
        "#4\n",
        "import numpy as np\n",
        "\n",
        "original_array = np.arange(1,11)\n",
        "\n",
        "even_numbers = original_array[original_array % 2 == 0]\n",
        "odd_numbers = original_array[original_array % 2 != 0]\n",
        "\n",
        "stacked_array = np.vstack((even_numbers, odd_numbers))\n",
        "\n",
        "print(\"Vertically stacked array\")\n",
        "print(stacked_array)\n",
        "\n",
        "print('Shape of the resultant array: ', stacked_array.shape)"
      ],
      "metadata": {
        "colab": {
          "base_uri": "https://localhost:8080/",
          "height": 0
        },
        "id": "BDvEZoytqlvz",
        "outputId": "8ea472df-91a4-4e22-b9fe-145553c0b7ac"
      },
      "execution_count": 4,
      "outputs": [
        {
          "output_type": "stream",
          "name": "stdout",
          "text": [
            "Vertically stacked array\n",
            "[[ 2  4  6  8 10]\n",
            " [ 1  3  5  7  9]]\n",
            "Shape of the resultant array:  (2, 5)\n"
          ]
        }
      ]
    },
    {
      "cell_type": "code",
      "source": [
        "#3\n",
        "import numpy as np\n",
        "\n",
        "original_array = np.arange(1,11)\n",
        "\n",
        "even_numbers = original_array[original_array % 2 == 0]\n",
        "odd_numbers = original_array[original_array % 2 != 0]\n",
        "\n",
        "stacked_array = np.vstack((even_numbers, odd_numbers))\n",
        "\n",
        "last_two_columns_mean = np.mean(stacked_array[:, -2:])\n",
        "\n",
        "print(\"Vertically stacked array\")\n",
        "print(stacked_array)\n",
        "\n",
        "print('Mean of the last two columns: ', last_two_columns_mean)"
      ],
      "metadata": {
        "colab": {
          "base_uri": "https://localhost:8080/",
          "height": 0
        },
        "id": "eU2Uxlb8rPk2",
        "outputId": "9655652b-dfa9-424e-9988-4e70bbe7219b"
      },
      "execution_count": 3,
      "outputs": [
        {
          "output_type": "stream",
          "name": "stdout",
          "text": [
            "Vertically stacked array\n",
            "[[ 2  4  6  8 10]\n",
            " [ 1  3  5  7  9]]\n",
            "Mean of the last two columns:  8.5\n"
          ]
        }
      ]
    },
    {
      "cell_type": "code",
      "source": [
        "#1\n",
        "import numpy as np\n",
        "\n",
        "original_array = np.arange(10)\n",
        "\n",
        "even_numbers = original_array[original_array % 2 == 0]\n",
        "odd_numbers = original_array[original_array % 2 != 0]\n",
        "\n",
        "horizontal_stacked_array = np.hstack((even_numbers, odd_numbers))\n",
        "\n",
        "reshaped_array = horizontal_stacked_array.reshape(2,5)\n",
        "\n",
        "mean_first_row = np.mean(reshaped_array[0, :])\n",
        "\n",
        "print(\"Reshaped_array:\")\n",
        "print(reshaped_array)\n",
        "\n",
        "\n",
        "print(\"Mean of the first row:\",mean_first_row)"
      ],
      "metadata": {
        "colab": {
          "base_uri": "https://localhost:8080/",
          "height": 0
        },
        "id": "067a6wxisRxx",
        "outputId": "c8cba82c-aa31-43a9-e4d4-6b4ffbfcfa20"
      },
      "execution_count": 2,
      "outputs": [
        {
          "output_type": "stream",
          "name": "stdout",
          "text": [
            "Reshaped_array:\n",
            "[[0 2 4 6 8]\n",
            " [1 3 5 7 9]]\n",
            "Mean of the first row: 4.0\n"
          ]
        }
      ]
    },
    {
      "cell_type": "code",
      "source": [
        "#5\n",
        "\n",
        "import numpy as np\n",
        "\n",
        "# Step 1: Create an array from 1 to 20\n",
        "original_array = np.arange(1, 21)\n",
        "\n",
        "# Step 2: Square even numbers and leave odd numbers unchanged\n",
        "squared_array = np.where(original_array % 2 == 0, original_array ** 2, original_array)\n",
        "\n",
        "# Step 3: Reshape the array to 10 rows and 2 columns\n",
        "reshaped_array = squared_array.reshape(10, 2)\n",
        "\n",
        "# Step 4: Find the sum of the last column\n",
        "sum_last_column = np.sum(reshaped_array[:, -1])\n",
        "\n",
        "# Display the reshaped array\n",
        "print(\"Reshaped array:\")\n",
        "print(reshaped_array)\n",
        "\n",
        "# Display the sum of the last column\n",
        "print(\"Sum of the last column:\", sum_last_column)"
      ],
      "metadata": {
        "colab": {
          "base_uri": "https://localhost:8080/",
          "height": 0
        },
        "id": "mComAAMdtPGl",
        "outputId": "861e1ef8-e39c-4881-9324-0bd3388f3f4f"
      },
      "execution_count": 5,
      "outputs": [
        {
          "output_type": "stream",
          "name": "stdout",
          "text": [
            "Reshaped array:\n",
            "[[  1   4]\n",
            " [  3  16]\n",
            " [  5  36]\n",
            " [  7  64]\n",
            " [  9 100]\n",
            " [ 11 144]\n",
            " [ 13 196]\n",
            " [ 15 256]\n",
            " [ 17 324]\n",
            " [ 19 400]]\n",
            "Sum of the last column: 1540\n"
          ]
        }
      ]
    },
    {
      "cell_type": "code",
      "source": [
        "#6\n",
        "import numpy as np\n",
        "\n",
        "# Step 1: Create an array from 1 to 99\n",
        "original_array = np.arange(1, 100)\n",
        "\n",
        "# Step 2: Reshape the array to 3 rows and 33 columns\n",
        "reshaped_array = original_array.reshape(3, 33)\n",
        "\n",
        "# Step 3: Split the reshaped array vertically into three equal parts\n",
        "split_parts = np.vsplit(reshaped_array, 3)\n",
        "\n",
        "# Calculate the sum of each part\n",
        "sum_of_each_part = [np.sum(part) for part in split_parts]\n",
        "\n",
        "# Display the reshaped array\n",
        "print(\"Reshaped array:\")\n",
        "print(reshaped_array)\n",
        "\n",
        "# Display the sum of each part\n",
        "print(\"Sum of each part:\", sum_of_each_part)"
      ],
      "metadata": {
        "colab": {
          "base_uri": "https://localhost:8080/",
          "height": 0
        },
        "id": "YKKXNcpguQ8y",
        "outputId": "32c736b9-a20c-49a9-cb17-097900ce06c1"
      },
      "execution_count": 8,
      "outputs": [
        {
          "output_type": "stream",
          "name": "stdout",
          "text": [
            "Reshaped array:\n",
            "[[ 1  2  3  4  5  6  7  8  9 10 11 12 13 14 15 16 17 18 19 20 21 22 23 24\n",
            "  25 26 27 28 29 30 31 32 33]\n",
            " [34 35 36 37 38 39 40 41 42 43 44 45 46 47 48 49 50 51 52 53 54 55 56 57\n",
            "  58 59 60 61 62 63 64 65 66]\n",
            " [67 68 69 70 71 72 73 74 75 76 77 78 79 80 81 82 83 84 85 86 87 88 89 90\n",
            "  91 92 93 94 95 96 97 98 99]]\n",
            "Sum of each part: [561, 1650, 2739]\n"
          ]
        }
      ]
    },
    {
      "cell_type": "code",
      "source": [
        "#7\n",
        "import pandas as pd\n",
        "link = \"https://d2beiqkhq929f0.cloudfront.net/public_assets/assets/000/033/327/original/flights.csv?1683012330\"\n",
        "df = pd.read_csv(link)"
      ],
      "metadata": {
        "id": "EtMj0rkdvJoN"
      },
      "execution_count": 9,
      "outputs": []
    },
    {
      "cell_type": "code",
      "source": [
        "df.head()"
      ],
      "metadata": {
        "colab": {
          "base_uri": "https://localhost:8080/",
          "height": 206
        },
        "id": "xq5p6F0zvXdN",
        "outputId": "6638b83f-3ebf-45ad-ec4d-bcda71bdeb81"
      },
      "execution_count": 10,
      "outputs": [
        {
          "output_type": "execute_result",
          "data": {
            "text/plain": [
              "   year month  passengers\n",
              "0  1949   Jan         112\n",
              "1  1949   Feb         118\n",
              "2  1949   Mar         132\n",
              "3  1949   Apr         129\n",
              "4  1949   May         121"
            ],
            "text/html": [
              "\n",
              "  <div id=\"df-e416b24b-1d9a-4a02-9c90-ed2631f5c602\" class=\"colab-df-container\">\n",
              "    <div>\n",
              "<style scoped>\n",
              "    .dataframe tbody tr th:only-of-type {\n",
              "        vertical-align: middle;\n",
              "    }\n",
              "\n",
              "    .dataframe tbody tr th {\n",
              "        vertical-align: top;\n",
              "    }\n",
              "\n",
              "    .dataframe thead th {\n",
              "        text-align: right;\n",
              "    }\n",
              "</style>\n",
              "<table border=\"1\" class=\"dataframe\">\n",
              "  <thead>\n",
              "    <tr style=\"text-align: right;\">\n",
              "      <th></th>\n",
              "      <th>year</th>\n",
              "      <th>month</th>\n",
              "      <th>passengers</th>\n",
              "    </tr>\n",
              "  </thead>\n",
              "  <tbody>\n",
              "    <tr>\n",
              "      <th>0</th>\n",
              "      <td>1949</td>\n",
              "      <td>Jan</td>\n",
              "      <td>112</td>\n",
              "    </tr>\n",
              "    <tr>\n",
              "      <th>1</th>\n",
              "      <td>1949</td>\n",
              "      <td>Feb</td>\n",
              "      <td>118</td>\n",
              "    </tr>\n",
              "    <tr>\n",
              "      <th>2</th>\n",
              "      <td>1949</td>\n",
              "      <td>Mar</td>\n",
              "      <td>132</td>\n",
              "    </tr>\n",
              "    <tr>\n",
              "      <th>3</th>\n",
              "      <td>1949</td>\n",
              "      <td>Apr</td>\n",
              "      <td>129</td>\n",
              "    </tr>\n",
              "    <tr>\n",
              "      <th>4</th>\n",
              "      <td>1949</td>\n",
              "      <td>May</td>\n",
              "      <td>121</td>\n",
              "    </tr>\n",
              "  </tbody>\n",
              "</table>\n",
              "</div>\n",
              "    <div class=\"colab-df-buttons\">\n",
              "\n",
              "  <div class=\"colab-df-container\">\n",
              "    <button class=\"colab-df-convert\" onclick=\"convertToInteractive('df-e416b24b-1d9a-4a02-9c90-ed2631f5c602')\"\n",
              "            title=\"Convert this dataframe to an interactive table.\"\n",
              "            style=\"display:none;\">\n",
              "\n",
              "  <svg xmlns=\"http://www.w3.org/2000/svg\" height=\"24px\" viewBox=\"0 -960 960 960\">\n",
              "    <path d=\"M120-120v-720h720v720H120Zm60-500h600v-160H180v160Zm220 220h160v-160H400v160Zm0 220h160v-160H400v160ZM180-400h160v-160H180v160Zm440 0h160v-160H620v160ZM180-180h160v-160H180v160Zm440 0h160v-160H620v160Z\"/>\n",
              "  </svg>\n",
              "    </button>\n",
              "\n",
              "  <style>\n",
              "    .colab-df-container {\n",
              "      display:flex;\n",
              "      gap: 12px;\n",
              "    }\n",
              "\n",
              "    .colab-df-convert {\n",
              "      background-color: #E8F0FE;\n",
              "      border: none;\n",
              "      border-radius: 50%;\n",
              "      cursor: pointer;\n",
              "      display: none;\n",
              "      fill: #1967D2;\n",
              "      height: 32px;\n",
              "      padding: 0 0 0 0;\n",
              "      width: 32px;\n",
              "    }\n",
              "\n",
              "    .colab-df-convert:hover {\n",
              "      background-color: #E2EBFA;\n",
              "      box-shadow: 0px 1px 2px rgba(60, 64, 67, 0.3), 0px 1px 3px 1px rgba(60, 64, 67, 0.15);\n",
              "      fill: #174EA6;\n",
              "    }\n",
              "\n",
              "    .colab-df-buttons div {\n",
              "      margin-bottom: 4px;\n",
              "    }\n",
              "\n",
              "    [theme=dark] .colab-df-convert {\n",
              "      background-color: #3B4455;\n",
              "      fill: #D2E3FC;\n",
              "    }\n",
              "\n",
              "    [theme=dark] .colab-df-convert:hover {\n",
              "      background-color: #434B5C;\n",
              "      box-shadow: 0px 1px 3px 1px rgba(0, 0, 0, 0.15);\n",
              "      filter: drop-shadow(0px 1px 2px rgba(0, 0, 0, 0.3));\n",
              "      fill: #FFFFFF;\n",
              "    }\n",
              "  </style>\n",
              "\n",
              "    <script>\n",
              "      const buttonEl =\n",
              "        document.querySelector('#df-e416b24b-1d9a-4a02-9c90-ed2631f5c602 button.colab-df-convert');\n",
              "      buttonEl.style.display =\n",
              "        google.colab.kernel.accessAllowed ? 'block' : 'none';\n",
              "\n",
              "      async function convertToInteractive(key) {\n",
              "        const element = document.querySelector('#df-e416b24b-1d9a-4a02-9c90-ed2631f5c602');\n",
              "        const dataTable =\n",
              "          await google.colab.kernel.invokeFunction('convertToInteractive',\n",
              "                                                    [key], {});\n",
              "        if (!dataTable) return;\n",
              "\n",
              "        const docLinkHtml = 'Like what you see? Visit the ' +\n",
              "          '<a target=\"_blank\" href=https://colab.research.google.com/notebooks/data_table.ipynb>data table notebook</a>'\n",
              "          + ' to learn more about interactive tables.';\n",
              "        element.innerHTML = '';\n",
              "        dataTable['output_type'] = 'display_data';\n",
              "        await google.colab.output.renderOutput(dataTable, element);\n",
              "        const docLink = document.createElement('div');\n",
              "        docLink.innerHTML = docLinkHtml;\n",
              "        element.appendChild(docLink);\n",
              "      }\n",
              "    </script>\n",
              "  </div>\n",
              "\n",
              "\n",
              "<div id=\"df-d8254d93-108f-4fdc-a40c-454dd8131874\">\n",
              "  <button class=\"colab-df-quickchart\" onclick=\"quickchart('df-d8254d93-108f-4fdc-a40c-454dd8131874')\"\n",
              "            title=\"Suggest charts\"\n",
              "            style=\"display:none;\">\n",
              "\n",
              "<svg xmlns=\"http://www.w3.org/2000/svg\" height=\"24px\"viewBox=\"0 0 24 24\"\n",
              "     width=\"24px\">\n",
              "    <g>\n",
              "        <path d=\"M19 3H5c-1.1 0-2 .9-2 2v14c0 1.1.9 2 2 2h14c1.1 0 2-.9 2-2V5c0-1.1-.9-2-2-2zM9 17H7v-7h2v7zm4 0h-2V7h2v10zm4 0h-2v-4h2v4z\"/>\n",
              "    </g>\n",
              "</svg>\n",
              "  </button>\n",
              "\n",
              "<style>\n",
              "  .colab-df-quickchart {\n",
              "      --bg-color: #E8F0FE;\n",
              "      --fill-color: #1967D2;\n",
              "      --hover-bg-color: #E2EBFA;\n",
              "      --hover-fill-color: #174EA6;\n",
              "      --disabled-fill-color: #AAA;\n",
              "      --disabled-bg-color: #DDD;\n",
              "  }\n",
              "\n",
              "  [theme=dark] .colab-df-quickchart {\n",
              "      --bg-color: #3B4455;\n",
              "      --fill-color: #D2E3FC;\n",
              "      --hover-bg-color: #434B5C;\n",
              "      --hover-fill-color: #FFFFFF;\n",
              "      --disabled-bg-color: #3B4455;\n",
              "      --disabled-fill-color: #666;\n",
              "  }\n",
              "\n",
              "  .colab-df-quickchart {\n",
              "    background-color: var(--bg-color);\n",
              "    border: none;\n",
              "    border-radius: 50%;\n",
              "    cursor: pointer;\n",
              "    display: none;\n",
              "    fill: var(--fill-color);\n",
              "    height: 32px;\n",
              "    padding: 0;\n",
              "    width: 32px;\n",
              "  }\n",
              "\n",
              "  .colab-df-quickchart:hover {\n",
              "    background-color: var(--hover-bg-color);\n",
              "    box-shadow: 0 1px 2px rgba(60, 64, 67, 0.3), 0 1px 3px 1px rgba(60, 64, 67, 0.15);\n",
              "    fill: var(--button-hover-fill-color);\n",
              "  }\n",
              "\n",
              "  .colab-df-quickchart-complete:disabled,\n",
              "  .colab-df-quickchart-complete:disabled:hover {\n",
              "    background-color: var(--disabled-bg-color);\n",
              "    fill: var(--disabled-fill-color);\n",
              "    box-shadow: none;\n",
              "  }\n",
              "\n",
              "  .colab-df-spinner {\n",
              "    border: 2px solid var(--fill-color);\n",
              "    border-color: transparent;\n",
              "    border-bottom-color: var(--fill-color);\n",
              "    animation:\n",
              "      spin 1s steps(1) infinite;\n",
              "  }\n",
              "\n",
              "  @keyframes spin {\n",
              "    0% {\n",
              "      border-color: transparent;\n",
              "      border-bottom-color: var(--fill-color);\n",
              "      border-left-color: var(--fill-color);\n",
              "    }\n",
              "    20% {\n",
              "      border-color: transparent;\n",
              "      border-left-color: var(--fill-color);\n",
              "      border-top-color: var(--fill-color);\n",
              "    }\n",
              "    30% {\n",
              "      border-color: transparent;\n",
              "      border-left-color: var(--fill-color);\n",
              "      border-top-color: var(--fill-color);\n",
              "      border-right-color: var(--fill-color);\n",
              "    }\n",
              "    40% {\n",
              "      border-color: transparent;\n",
              "      border-right-color: var(--fill-color);\n",
              "      border-top-color: var(--fill-color);\n",
              "    }\n",
              "    60% {\n",
              "      border-color: transparent;\n",
              "      border-right-color: var(--fill-color);\n",
              "    }\n",
              "    80% {\n",
              "      border-color: transparent;\n",
              "      border-right-color: var(--fill-color);\n",
              "      border-bottom-color: var(--fill-color);\n",
              "    }\n",
              "    90% {\n",
              "      border-color: transparent;\n",
              "      border-bottom-color: var(--fill-color);\n",
              "    }\n",
              "  }\n",
              "</style>\n",
              "\n",
              "  <script>\n",
              "    async function quickchart(key) {\n",
              "      const quickchartButtonEl =\n",
              "        document.querySelector('#' + key + ' button');\n",
              "      quickchartButtonEl.disabled = true;  // To prevent multiple clicks.\n",
              "      quickchartButtonEl.classList.add('colab-df-spinner');\n",
              "      try {\n",
              "        const charts = await google.colab.kernel.invokeFunction(\n",
              "            'suggestCharts', [key], {});\n",
              "      } catch (error) {\n",
              "        console.error('Error during call to suggestCharts:', error);\n",
              "      }\n",
              "      quickchartButtonEl.classList.remove('colab-df-spinner');\n",
              "      quickchartButtonEl.classList.add('colab-df-quickchart-complete');\n",
              "    }\n",
              "    (() => {\n",
              "      let quickchartButtonEl =\n",
              "        document.querySelector('#df-d8254d93-108f-4fdc-a40c-454dd8131874 button');\n",
              "      quickchartButtonEl.style.display =\n",
              "        google.colab.kernel.accessAllowed ? 'block' : 'none';\n",
              "    })();\n",
              "  </script>\n",
              "</div>\n",
              "\n",
              "    </div>\n",
              "  </div>\n"
            ]
          },
          "metadata": {},
          "execution_count": 10
        }
      ]
    },
    {
      "cell_type": "code",
      "source": [
        "#import pandas as pd\n",
        "\n",
        "# Assuming you have the data in a DataFrame, replace this with your actual DataFrame\n",
        "#data = {'year': [1949, 1949, 1949, 1949, 1949],\n",
        "        #'month': ['Jan', 'Feb', 'Mar', 'Apr', 'May'],\n",
        "        #'passengers': [112, 118, 132, 129, 121]}\n",
        "\n",
        "\n",
        "import pandas as pd\n",
        "link = \"https://d2beiqkhq929f0.cloudfront.net/public_assets/assets/000/033/327/original/flights.csv?1683012330\"\n",
        "df = pd.read_csv(link)\n",
        "\n",
        "#df = pd.DataFrame(data)\n",
        "\n",
        "# Find the row with the highest number of passengers\n",
        "max_passengers_row = df[df['passengers'] == df['passengers'].max()]\n",
        "\n",
        "# Extract the year and month with the highest passengers\n",
        "highest_year = max_passengers_row['year'].values[0]\n",
        "highest_month = max_passengers_row['month'].values[0]\n",
        "\n",
        "# Display the result\n",
        "print(f\"Highest passengers: Year {highest_year}, Month {highest_month}\")"
      ],
      "metadata": {
        "colab": {
          "base_uri": "https://localhost:8080/",
          "height": 0
        },
        "id": "_5Y43rgcvcdt",
        "outputId": "5279e08a-5512-4ed1-d701-f0ace0bc4d43"
      },
      "execution_count": 12,
      "outputs": [
        {
          "output_type": "stream",
          "name": "stdout",
          "text": [
            "Highest passengers: Year 1960, Month Jul\n"
          ]
        }
      ]
    },
    {
      "cell_type": "code",
      "source": [
        "#8\n",
        "\n",
        "#import pandas as pd\n",
        "\n",
        "# Assuming you have the 'tips' dataset loaded into a DataFrame, replace this with your actual DataFrame\n",
        "#data = {'total_bill': [16.99, 10.34, 21.01, 23.68, 24.59],\n",
        "        #'tip': [1.01, 1.66, 3.50, 3.31, 3.61],\n",
        "        #'sex': ['Female', 'Male', 'Male', 'Male', 'Female'],\n",
        "        #'smoker': ['No', 'No', 'No', 'No', 'No'],\n",
        "       # 'day': ['Sun', 'Sun', 'Sun', 'Sun', 'Sun'],\n",
        "       # 'time': ['Dinner', 'Dinner', 'Dinner', 'Dinner', 'Dinner'],\n",
        "       # 'size': [2, 3, 3, 2, 4]}\n",
        "\n",
        "#df = pd.DataFrame(data)\n",
        "\n",
        "import seaborn as sns\n",
        "df = sns.load_dataset('tips')\n",
        "\n",
        "# Filter rows where total bill is greater than 20 and tip is greater than 4\n",
        "filtered_rows = df[(df['total_bill'] > 20) & (df['tip'] > 4)]\n",
        "\n",
        "# Get the number of rows meeting the condition\n",
        "num_rows = len(filtered_rows)\n",
        "\n",
        "# Display the result\n",
        "print(f\"Number of rows with total bill > 20 and tip > 4: {num_rows}\")"
      ],
      "metadata": {
        "colab": {
          "base_uri": "https://localhost:8080/",
          "height": 0
        },
        "id": "rqRj9EepwaAy",
        "outputId": "60a424b7-0ebe-4f72-8bd6-68a5d28c708b"
      },
      "execution_count": 13,
      "outputs": [
        {
          "output_type": "stream",
          "name": "stdout",
          "text": [
            "Number of rows with total bill > 20 and tip > 4: 37\n"
          ]
        }
      ]
    },
    {
      "cell_type": "code",
      "source": [
        "#2\n",
        "\n",
        "# Assuming you have the dataset loaded into a DataFrame, replace this with your actual DataFrame\n",
        "#data = {'total_bill': [16.99, 10.34, 21.01, 23.68, 24.59],\n",
        "       # 'tip': [1.01, 1.66, 3.50, 3.31, 3.61],\n",
        "        #'sex': ['Female', 'Male', 'Male', 'Male', 'Female'],\n",
        "      #  'smoker': ['No', 'No', 'No', 'No', 'No'],\n",
        "       # 'day': ['Sun', 'Sun', 'Sun', 'Sun', 'Sun'],\n",
        "    #    'time': ['Dinner', 'Dinner', 'Dinner', 'Dinner', 'Dinner'],\n",
        "      #  'size': [2, 3, 3, 2, 4]}\n",
        "\n",
        "#df = pd.DataFrame(data)\n",
        "\n",
        "import seaborn as sns\n",
        "df=sns.load_dataset('tips')\n",
        "\n",
        "# Calculate the range in which the maximum number of total bills occur\n",
        "max_total_bill_range = pd.cut(df['total_bill'], bins=10).mode().iloc[0]\n",
        "\n",
        "# Display the result\n",
        "print(f\"Range with the maximum number of total bills: {max_total_bill_range}\")"
      ],
      "metadata": {
        "colab": {
          "base_uri": "https://localhost:8080/",
          "height": 0
        },
        "id": "1SDUsd_Pxl1J",
        "outputId": "e30137c2-6998-4f7e-a510-9f38babd9abe"
      },
      "execution_count": 17,
      "outputs": [
        {
          "output_type": "stream",
          "name": "stdout",
          "text": [
            "Range with the maximum number of total bills: (12.618, 17.392]\n"
          ]
        }
      ]
    },
    {
      "cell_type": "code",
      "source": [],
      "metadata": {
        "id": "4vRfzIJ4yzva"
      },
      "execution_count": null,
      "outputs": []
    }
  ]
}